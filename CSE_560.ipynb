{
  "nbformat": 4,
  "nbformat_minor": 0,
  "metadata": {
    "colab": {
      "provenance": []
    },
    "kernelspec": {
      "name": "python3",
      "display_name": "Python 3"
    },
    "language_info": {
      "name": "python"
    }
  },
  "cells": [
    {
      "cell_type": "code",
      "source": [
        "import pandas as pd\n",
        "from google.colab import files\n",
        "\n",
        "df = pd.read_csv('dataset.csv')\n",
        "\n",
        "df.dropna(subset=['track_id', 'track_name', 'album_name'], inplace=True)\n",
        "df.drop_duplicates(subset=['track_id', 'track_name', 'album_name'], inplace=True)\n",
        "\n",
        "# Split artists and normalize the data\n",
        "df['artists'] = df['artists'].str.split(';')\n",
        "artists_expanded = df[['artists']].explode('artists').drop_duplicates().reset_index(drop=True)\n",
        "artists_expanded['artist_id'] = ['A' + str(i + 1) for i in range(len(artists_expanded))]\n",
        "artists_expanded = artists_expanded[['artist_id', 'artists']]\n",
        "artists_expanded.columns = ['artist_id', 'artist_name']\n",
        "artists_expanded.to_csv('artists.csv', index=False)\n",
        "\n",
        "# Create Albums table\n",
        "albums_df = df[['album_name']].drop_duplicates().reset_index(drop=True)\n",
        "albums_df['album_id'] = ['AL' + str(i + 1) for i in range(len(albums_df))]\n",
        "albums_df = albums_df[['album_id', 'album_name']]\n",
        "albums_df.to_csv('albums.csv', index=False)\n",
        "\n",
        "# Create Album-Artists Linking Table\n",
        "album_artists_df = df[['album_name', 'artists']].explode('artists').merge(artists_expanded, left_on='artists', right_on='artist_name')\n",
        "album_artists_df = album_artists_df.merge(albums_df, on='album_name')\n",
        "album_artists_df = album_artists_df[['album_id', 'artist_id']].drop_duplicates()\n",
        "album_artists_df.to_csv('album_artists.csv', index=False)\n",
        "\n",
        "# Create Tracks table with cleaned data and proper join\n",
        "tracks_df = df[['track_id', 'track_name', 'album_name', 'popularity', 'duration_ms', 'explicit']]\n",
        "tracks_df = tracks_df.merge(albums_df, on='album_name', how='inner')  # Use inner join to exclude unmatched rows\n",
        "tracks_df = tracks_df[['track_id', 'track_name', 'album_id', 'popularity', 'duration_ms', 'explicit']]\n",
        "tracks_df.dropna(subset=['track_id', 'track_name', 'album_id'], inplace=True)  # Ensure critical columns are not null\n",
        "tracks_df = tracks_df.drop_duplicates(subset=['track_id', 'track_name'])  # Ensure no duplicate track_ids\n",
        "tracks_df.to_csv('tracks.csv', index=False)\n",
        "\n",
        "# Create Track-Artists Linking Table\n",
        "track_artists_df = df[['track_id', 'artists']].explode('artists').merge(artists_expanded, left_on='artists', right_on='artist_name')\n",
        "track_artists_df = track_artists_df[['track_id', 'artist_id']].drop_duplicates()\n",
        "track_artists_df.to_csv('track_artists.csv', index=False)\n",
        "\n",
        "# Create Audio Features table\n",
        "# Create Audio Features table\n",
        "audio_features_df = df[['track_id', 'danceability', 'energy', 'key', 'loudness', 'mode', 'speechiness',\n",
        "                        'acousticness', 'instrumentalness', 'liveness', 'valence', 'tempo', 'time_signature', 'track_genre']]\n",
        "audio_features_df = audio_features_df.dropna(subset=['track_id'])  # Ensure critical columns are not null\n",
        "audio_features_df = audio_features_df.drop_duplicates(subset=['track_id'])  # Remove duplicate track_ids\n",
        "audio_features_df.to_csv('audio_features.csv', index=False)\n",
        "\n",
        "\n",
        "# Download the CSV files\n",
        "files.download('artists.csv')\n",
        "files.download('albums.csv')\n",
        "files.download('album_artists.csv')\n",
        "files.download('tracks.csv')\n",
        "files.download('track_artists.csv')\n",
        "files.download('audio_features.csv')\n",
        "\n",
        "# Generate Create and Insert SQL Script\n",
        "def save_insert_queries(dataframe, table_name, file):\n",
        "    for _, row in dataframe.iterrows():\n",
        "        columns = ', '.join(dataframe.columns)\n",
        "        values_list = []\n",
        "        for x in row.values:\n",
        "            if pd.isna(x):\n",
        "                values_list.append(\"NULL\")\n",
        "            elif isinstance(x, str):\n",
        "                escaped_x = x.replace(\"'\", \"''\")\n",
        "                values_list.append(f\"'{escaped_x}'\")\n",
        "            else:\n",
        "                values_list.append(str(x))\n",
        "        values = ', '.join(values_list)\n",
        "        insert_query = f\"INSERT INTO {table_name} ({columns}) VALUES ({values}) ON CONFLICT DO NOTHING;\\n\"\n",
        "        file.write(insert_query)\n",
        "\n",
        "# Save the insert queries for each table to the same SQL file\n",
        "with open('create_and_insert_tables.sql', 'w') as f:\n",
        "    # Write Create Table Scripts\n",
        "    f.write(\"-- Create Artists Table\\n\")\n",
        "    f.write(\"\"\"\n",
        "    CREATE TABLE artists (\n",
        "        artist_id VARCHAR PRIMARY KEY,\n",
        "        artist_name VARCHAR NOT NULL\n",
        "    );\n",
        "    \"\"\"\n",
        "    )\n",
        "    f.write(\"\\n\\n-- Create Albums Table\\n\")\n",
        "    f.write(\"\"\"\n",
        "    CREATE TABLE albums (\n",
        "        album_id VARCHAR PRIMARY KEY,\n",
        "        album_name VARCHAR NOT NULL\n",
        "    );\n",
        "    \"\"\")\n",
        "    f.write(\"\\n\\n-- Create Album-Artists Table\\n\")\n",
        "    f.write(\"\"\"\n",
        "    CREATE TABLE album_artists (\n",
        "        album_id VARCHAR NOT NULL,\n",
        "        artist_id VARCHAR NOT NULL,\n",
        "        FOREIGN KEY (album_id) REFERENCES albums(album_id),\n",
        "        FOREIGN KEY (artist_id) REFERENCES artists(artist_id),\n",
        "        PRIMARY KEY (album_id, artist_id)\n",
        "    );\n",
        "    \"\"\")\n",
        "    f.write(\"\\n\\n-- Create Tracks Table\\n\")\n",
        "    f.write(\"\"\"\n",
        "    CREATE TABLE tracks (\n",
        "        track_id VARCHAR PRIMARY KEY,\n",
        "        track_name VARCHAR NOT NULL,\n",
        "        album_id VARCHAR NOT NULL,\n",
        "        popularity INTEGER,\n",
        "        duration_ms INTEGER,\n",
        "        explicit BOOLEAN,\n",
        "        FOREIGN KEY (album_id) REFERENCES albums(album_id)\n",
        "    );\n",
        "    \"\"\")\n",
        "    f.write(\"\\n\\n-- Create Track-Artists Table\\n\")\n",
        "    f.write(\"\"\"\n",
        "    CREATE TABLE track_artists (\n",
        "        track_id VARCHAR NOT NULL,\n",
        "        artist_id VARCHAR NOT NULL,\n",
        "        FOREIGN KEY (track_id) REFERENCES tracks(track_id),\n",
        "        FOREIGN KEY (artist_id) REFERENCES artists(artist_id),\n",
        "        PRIMARY KEY (track_id, artist_id)\n",
        "    );\n",
        "    \"\"\")\n",
        "    f.write(\"\\n\\n-- Create Audio Features Table\\n\")\n",
        "    f.write(\"\"\"\n",
        "    CREATE TABLE audio_features (\n",
        "        track_id VARCHAR PRIMARY KEY,\n",
        "        danceability FLOAT,\n",
        "        energy FLOAT,\n",
        "        key INTEGER,\n",
        "        loudness FLOAT,\n",
        "        mode INTEGER,\n",
        "        speechiness FLOAT,\n",
        "        acousticness FLOAT,\n",
        "        instrumentalness FLOAT,\n",
        "        liveness FLOAT,\n",
        "        valence FLOAT,\n",
        "        tempo FLOAT,\n",
        "        time_signature INTEGER,\n",
        "        track_genre VARCHAR,\n",
        "        FOREIGN KEY (track_id) REFERENCES tracks(track_id)\n",
        "    );\n",
        "    \"\"\")\n",
        "\n",
        "    # Write Insert Data Statements\n",
        "    f.write(\"\\n\\n-- Insert Data into Artists Table\\n\")\n",
        "    save_insert_queries(artists_expanded, 'artists', f)\n",
        "\n",
        "    f.write(\"\\n\\n-- Insert Data into Albums Table\\n\")\n",
        "    save_insert_queries(albums_df, 'albums', f)\n",
        "\n",
        "    f.write(\"\\n\\n-- Insert Data into Album-Artists Table\\n\")\n",
        "    save_insert_queries(album_artists_df, 'album_artists', f)\n",
        "\n",
        "    f.write(\"\\n\\n-- Insert Data into Tracks Table\\n\")\n",
        "    save_insert_queries(tracks_df, 'tracks', f)\n",
        "\n",
        "    f.write(\"\\n\\n-- Insert Data into Track-Artists Table\\n\")\n",
        "    save_insert_queries(track_artists_df, 'track_artists', f)\n",
        "\n",
        "    f.write(\"\\n\\n-- Insert Data into Audio Features Table\\n\")\n",
        "    save_insert_queries(audio_features_df, 'audio_features', f)\n",
        "\n",
        "# Download SQL file\n",
        "files.download('create_and_insert_tables.sql')\n"
      ],
      "metadata": {
        "colab": {
          "base_uri": "https://localhost:8080/",
          "height": 53
        },
        "id": "97qou3l8gfG9",
        "outputId": "c6b8e89a-6c6e-4f98-c438-4cb22f2c6f55"
      },
      "execution_count": 17,
      "outputs": [
        {
          "output_type": "stream",
          "name": "stderr",
          "text": [
            "<ipython-input-17-989c74c856e0>:5: DtypeWarning: Columns (1,2,3,4,7,20) have mixed types. Specify dtype option on import or set low_memory=False.\n",
            "  df = pd.read_csv('dataset.csv')\n"
          ]
        },
        {
          "output_type": "display_data",
          "data": {
            "text/plain": [
              "<IPython.core.display.Javascript object>"
            ],
            "application/javascript": [
              "\n",
              "    async function download(id, filename, size) {\n",
              "      if (!google.colab.kernel.accessAllowed) {\n",
              "        return;\n",
              "      }\n",
              "      const div = document.createElement('div');\n",
              "      const label = document.createElement('label');\n",
              "      label.textContent = `Downloading \"${filename}\": `;\n",
              "      div.appendChild(label);\n",
              "      const progress = document.createElement('progress');\n",
              "      progress.max = size;\n",
              "      div.appendChild(progress);\n",
              "      document.body.appendChild(div);\n",
              "\n",
              "      const buffers = [];\n",
              "      let downloaded = 0;\n",
              "\n",
              "      const channel = await google.colab.kernel.comms.open(id);\n",
              "      // Send a message to notify the kernel that we're ready.\n",
              "      channel.send({})\n",
              "\n",
              "      for await (const message of channel.messages) {\n",
              "        // Send a message to notify the kernel that we're ready.\n",
              "        channel.send({})\n",
              "        if (message.buffers) {\n",
              "          for (const buffer of message.buffers) {\n",
              "            buffers.push(buffer);\n",
              "            downloaded += buffer.byteLength;\n",
              "            progress.value = downloaded;\n",
              "          }\n",
              "        }\n",
              "      }\n",
              "      const blob = new Blob(buffers, {type: 'application/binary'});\n",
              "      const a = document.createElement('a');\n",
              "      a.href = window.URL.createObjectURL(blob);\n",
              "      a.download = filename;\n",
              "      div.appendChild(a);\n",
              "      a.click();\n",
              "      div.remove();\n",
              "    }\n",
              "  "
            ]
          },
          "metadata": {}
        },
        {
          "output_type": "display_data",
          "data": {
            "text/plain": [
              "<IPython.core.display.Javascript object>"
            ],
            "application/javascript": [
              "download(\"download_6a034060-9bfe-4bac-9646-734dae184f8b\", \"artists.csv\", 30313)"
            ]
          },
          "metadata": {}
        },
        {
          "output_type": "display_data",
          "data": {
            "text/plain": [
              "<IPython.core.display.Javascript object>"
            ],
            "application/javascript": [
              "\n",
              "    async function download(id, filename, size) {\n",
              "      if (!google.colab.kernel.accessAllowed) {\n",
              "        return;\n",
              "      }\n",
              "      const div = document.createElement('div');\n",
              "      const label = document.createElement('label');\n",
              "      label.textContent = `Downloading \"${filename}\": `;\n",
              "      div.appendChild(label);\n",
              "      const progress = document.createElement('progress');\n",
              "      progress.max = size;\n",
              "      div.appendChild(progress);\n",
              "      document.body.appendChild(div);\n",
              "\n",
              "      const buffers = [];\n",
              "      let downloaded = 0;\n",
              "\n",
              "      const channel = await google.colab.kernel.comms.open(id);\n",
              "      // Send a message to notify the kernel that we're ready.\n",
              "      channel.send({})\n",
              "\n",
              "      for await (const message of channel.messages) {\n",
              "        // Send a message to notify the kernel that we're ready.\n",
              "        channel.send({})\n",
              "        if (message.buffers) {\n",
              "          for (const buffer of message.buffers) {\n",
              "            buffers.push(buffer);\n",
              "            downloaded += buffer.byteLength;\n",
              "            progress.value = downloaded;\n",
              "          }\n",
              "        }\n",
              "      }\n",
              "      const blob = new Blob(buffers, {type: 'application/binary'});\n",
              "      const a = document.createElement('a');\n",
              "      a.href = window.URL.createObjectURL(blob);\n",
              "      a.download = filename;\n",
              "      div.appendChild(a);\n",
              "      a.click();\n",
              "      div.remove();\n",
              "    }\n",
              "  "
            ]
          },
          "metadata": {}
        },
        {
          "output_type": "display_data",
          "data": {
            "text/plain": [
              "<IPython.core.display.Javascript object>"
            ],
            "application/javascript": [
              "download(\"download_e5e32d79-4eb8-42b9-8eda-805eb641f4ce\", \"albums.csv\", 65608)"
            ]
          },
          "metadata": {}
        },
        {
          "output_type": "display_data",
          "data": {
            "text/plain": [
              "<IPython.core.display.Javascript object>"
            ],
            "application/javascript": [
              "\n",
              "    async function download(id, filename, size) {\n",
              "      if (!google.colab.kernel.accessAllowed) {\n",
              "        return;\n",
              "      }\n",
              "      const div = document.createElement('div');\n",
              "      const label = document.createElement('label');\n",
              "      label.textContent = `Downloading \"${filename}\": `;\n",
              "      div.appendChild(label);\n",
              "      const progress = document.createElement('progress');\n",
              "      progress.max = size;\n",
              "      div.appendChild(progress);\n",
              "      document.body.appendChild(div);\n",
              "\n",
              "      const buffers = [];\n",
              "      let downloaded = 0;\n",
              "\n",
              "      const channel = await google.colab.kernel.comms.open(id);\n",
              "      // Send a message to notify the kernel that we're ready.\n",
              "      channel.send({})\n",
              "\n",
              "      for await (const message of channel.messages) {\n",
              "        // Send a message to notify the kernel that we're ready.\n",
              "        channel.send({})\n",
              "        if (message.buffers) {\n",
              "          for (const buffer of message.buffers) {\n",
              "            buffers.push(buffer);\n",
              "            downloaded += buffer.byteLength;\n",
              "            progress.value = downloaded;\n",
              "          }\n",
              "        }\n",
              "      }\n",
              "      const blob = new Blob(buffers, {type: 'application/binary'});\n",
              "      const a = document.createElement('a');\n",
              "      a.href = window.URL.createObjectURL(blob);\n",
              "      a.download = filename;\n",
              "      div.appendChild(a);\n",
              "      a.click();\n",
              "      div.remove();\n",
              "    }\n",
              "  "
            ]
          },
          "metadata": {}
        },
        {
          "output_type": "display_data",
          "data": {
            "text/plain": [
              "<IPython.core.display.Javascript object>"
            ],
            "application/javascript": [
              "download(\"download_ef2fd7f6-9ce7-4e60-a158-72ed7c912896\", \"album_artists.csv\", 46025)"
            ]
          },
          "metadata": {}
        },
        {
          "output_type": "display_data",
          "data": {
            "text/plain": [
              "<IPython.core.display.Javascript object>"
            ],
            "application/javascript": [
              "\n",
              "    async function download(id, filename, size) {\n",
              "      if (!google.colab.kernel.accessAllowed) {\n",
              "        return;\n",
              "      }\n",
              "      const div = document.createElement('div');\n",
              "      const label = document.createElement('label');\n",
              "      label.textContent = `Downloading \"${filename}\": `;\n",
              "      div.appendChild(label);\n",
              "      const progress = document.createElement('progress');\n",
              "      progress.max = size;\n",
              "      div.appendChild(progress);\n",
              "      document.body.appendChild(div);\n",
              "\n",
              "      const buffers = [];\n",
              "      let downloaded = 0;\n",
              "\n",
              "      const channel = await google.colab.kernel.comms.open(id);\n",
              "      // Send a message to notify the kernel that we're ready.\n",
              "      channel.send({})\n",
              "\n",
              "      for await (const message of channel.messages) {\n",
              "        // Send a message to notify the kernel that we're ready.\n",
              "        channel.send({})\n",
              "        if (message.buffers) {\n",
              "          for (const buffer of message.buffers) {\n",
              "            buffers.push(buffer);\n",
              "            downloaded += buffer.byteLength;\n",
              "            progress.value = downloaded;\n",
              "          }\n",
              "        }\n",
              "      }\n",
              "      const blob = new Blob(buffers, {type: 'application/binary'});\n",
              "      const a = document.createElement('a');\n",
              "      a.href = window.URL.createObjectURL(blob);\n",
              "      a.download = filename;\n",
              "      div.appendChild(a);\n",
              "      a.click();\n",
              "      div.remove();\n",
              "    }\n",
              "  "
            ]
          },
          "metadata": {}
        },
        {
          "output_type": "display_data",
          "data": {
            "text/plain": [
              "<IPython.core.display.Javascript object>"
            ],
            "application/javascript": [
              "download(\"download_fe8bde05-74bd-4fcd-8bde-5219b0bc3e23\", \"tracks.csv\", 296659)"
            ]
          },
          "metadata": {}
        },
        {
          "output_type": "display_data",
          "data": {
            "text/plain": [
              "<IPython.core.display.Javascript object>"
            ],
            "application/javascript": [
              "\n",
              "    async function download(id, filename, size) {\n",
              "      if (!google.colab.kernel.accessAllowed) {\n",
              "        return;\n",
              "      }\n",
              "      const div = document.createElement('div');\n",
              "      const label = document.createElement('label');\n",
              "      label.textContent = `Downloading \"${filename}\": `;\n",
              "      div.appendChild(label);\n",
              "      const progress = document.createElement('progress');\n",
              "      progress.max = size;\n",
              "      div.appendChild(progress);\n",
              "      document.body.appendChild(div);\n",
              "\n",
              "      const buffers = [];\n",
              "      let downloaded = 0;\n",
              "\n",
              "      const channel = await google.colab.kernel.comms.open(id);\n",
              "      // Send a message to notify the kernel that we're ready.\n",
              "      channel.send({})\n",
              "\n",
              "      for await (const message of channel.messages) {\n",
              "        // Send a message to notify the kernel that we're ready.\n",
              "        channel.send({})\n",
              "        if (message.buffers) {\n",
              "          for (const buffer of message.buffers) {\n",
              "            buffers.push(buffer);\n",
              "            downloaded += buffer.byteLength;\n",
              "            progress.value = downloaded;\n",
              "          }\n",
              "        }\n",
              "      }\n",
              "      const blob = new Blob(buffers, {type: 'application/binary'});\n",
              "      const a = document.createElement('a');\n",
              "      a.href = window.URL.createObjectURL(blob);\n",
              "      a.download = filename;\n",
              "      div.appendChild(a);\n",
              "      a.click();\n",
              "      div.remove();\n",
              "    }\n",
              "  "
            ]
          },
          "metadata": {}
        },
        {
          "output_type": "display_data",
          "data": {
            "text/plain": [
              "<IPython.core.display.Javascript object>"
            ],
            "application/javascript": [
              "download(\"download_3fa585aa-d726-426f-b4be-662e272d117b\", \"track_artists.csv\", 156788)"
            ]
          },
          "metadata": {}
        },
        {
          "output_type": "display_data",
          "data": {
            "text/plain": [
              "<IPython.core.display.Javascript object>"
            ],
            "application/javascript": [
              "\n",
              "    async function download(id, filename, size) {\n",
              "      if (!google.colab.kernel.accessAllowed) {\n",
              "        return;\n",
              "      }\n",
              "      const div = document.createElement('div');\n",
              "      const label = document.createElement('label');\n",
              "      label.textContent = `Downloading \"${filename}\": `;\n",
              "      div.appendChild(label);\n",
              "      const progress = document.createElement('progress');\n",
              "      progress.max = size;\n",
              "      div.appendChild(progress);\n",
              "      document.body.appendChild(div);\n",
              "\n",
              "      const buffers = [];\n",
              "      let downloaded = 0;\n",
              "\n",
              "      const channel = await google.colab.kernel.comms.open(id);\n",
              "      // Send a message to notify the kernel that we're ready.\n",
              "      channel.send({})\n",
              "\n",
              "      for await (const message of channel.messages) {\n",
              "        // Send a message to notify the kernel that we're ready.\n",
              "        channel.send({})\n",
              "        if (message.buffers) {\n",
              "          for (const buffer of message.buffers) {\n",
              "            buffers.push(buffer);\n",
              "            downloaded += buffer.byteLength;\n",
              "            progress.value = downloaded;\n",
              "          }\n",
              "        }\n",
              "      }\n",
              "      const blob = new Blob(buffers, {type: 'application/binary'});\n",
              "      const a = document.createElement('a');\n",
              "      a.href = window.URL.createObjectURL(blob);\n",
              "      a.download = filename;\n",
              "      div.appendChild(a);\n",
              "      a.click();\n",
              "      div.remove();\n",
              "    }\n",
              "  "
            ]
          },
          "metadata": {}
        },
        {
          "output_type": "display_data",
          "data": {
            "text/plain": [
              "<IPython.core.display.Javascript object>"
            ],
            "application/javascript": [
              "download(\"download_449528b0-ac3d-4f58-9eea-faeba95cdfa3\", \"audio_features.csv\", 458449)"
            ]
          },
          "metadata": {}
        },
        {
          "output_type": "display_data",
          "data": {
            "text/plain": [
              "<IPython.core.display.Javascript object>"
            ],
            "application/javascript": [
              "\n",
              "    async function download(id, filename, size) {\n",
              "      if (!google.colab.kernel.accessAllowed) {\n",
              "        return;\n",
              "      }\n",
              "      const div = document.createElement('div');\n",
              "      const label = document.createElement('label');\n",
              "      label.textContent = `Downloading \"${filename}\": `;\n",
              "      div.appendChild(label);\n",
              "      const progress = document.createElement('progress');\n",
              "      progress.max = size;\n",
              "      div.appendChild(progress);\n",
              "      document.body.appendChild(div);\n",
              "\n",
              "      const buffers = [];\n",
              "      let downloaded = 0;\n",
              "\n",
              "      const channel = await google.colab.kernel.comms.open(id);\n",
              "      // Send a message to notify the kernel that we're ready.\n",
              "      channel.send({})\n",
              "\n",
              "      for await (const message of channel.messages) {\n",
              "        // Send a message to notify the kernel that we're ready.\n",
              "        channel.send({})\n",
              "        if (message.buffers) {\n",
              "          for (const buffer of message.buffers) {\n",
              "            buffers.push(buffer);\n",
              "            downloaded += buffer.byteLength;\n",
              "            progress.value = downloaded;\n",
              "          }\n",
              "        }\n",
              "      }\n",
              "      const blob = new Blob(buffers, {type: 'application/binary'});\n",
              "      const a = document.createElement('a');\n",
              "      a.href = window.URL.createObjectURL(blob);\n",
              "      a.download = filename;\n",
              "      div.appendChild(a);\n",
              "      a.click();\n",
              "      div.remove();\n",
              "    }\n",
              "  "
            ]
          },
          "metadata": {}
        },
        {
          "output_type": "display_data",
          "data": {
            "text/plain": [
              "<IPython.core.display.Javascript object>"
            ],
            "application/javascript": [
              "download(\"download_8e7bcad6-ae6c-4ec3-aaa4-42cb4d6cc4cf\", \"create_and_insert_tables.sql\", 3816919)"
            ]
          },
          "metadata": {}
        }
      ]
    }
  ]
}